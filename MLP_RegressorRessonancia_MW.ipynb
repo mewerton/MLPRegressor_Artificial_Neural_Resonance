{
  "cells": [
    {
      "cell_type": "markdown",
      "metadata": {
        "id": "view-in-github",
        "colab_type": "text"
      },
      "source": [
        "<a href=\"https://colab.research.google.com/github/mewerton/MLPRegressor_Artificial_Neural_Resonance/blob/main/MLP_RegressorRessonancia_MW.ipynb\" target=\"_parent\"><img src=\"https://colab.research.google.com/assets/colab-badge.svg\" alt=\"Open In Colab\"/></a>"
      ]
    },
    {
      "cell_type": "markdown",
      "source": [
        "***Tarefa 1 - Prática - Bloco 3***\n"
      ],
      "metadata": {
        "id": "vOGUyB_R6ZyM"
      }
    },
    {
      "cell_type": "markdown",
      "source": [
        "**Aluno: Mewerton de Melo Silva**"
      ],
      "metadata": {
        "id": "l0aijaFkcNew"
      }
    },
    {
      "cell_type": "markdown",
      "source": [
        "Multi-layer Perceptron Regressor (MLPRegressor) - Exercício - Ressonância"
      ],
      "metadata": {
        "id": "MF2PMq0zZASC"
      }
    },
    {
      "cell_type": "code",
      "execution_count": 55,
      "metadata": {
        "colab": {
          "base_uri": "https://localhost:8080/"
        },
        "id": "C91QDW9gkG78",
        "outputId": "dbc9d72e-1581-4254-bc38-ac45bf870ae1"
      },
      "outputs": [
        {
          "output_type": "stream",
          "name": "stdout",
          "text": [
            "Drive already mounted at /content/drive; to attempt to forcibly remount, call drive.mount(\"/content/drive\", force_remount=True).\n"
          ]
        }
      ],
      "source": [
        "from sklearn.model_selection import train_test_split # Biblioteca para separação de amostras para treino e teste, curva de aprendizagem do treinamento e para processar a validação cruzada\n",
        "from sklearn.neural_network import MLPRegressor # Biblioteca para utilização do Regressor MLP\n",
        "from sklearn.preprocessing import StandardScaler # Biblioteca utilizada para normalização dos dados\n",
        "from sklearn.pipeline import Pipeline # Biblioteca para organização de ações em sequência\n",
        "from sklearn import metrics # Biblioteca para avaliação das métricas no modelo\n",
        "import matplotlib.pyplot as plt # Para visualizacao dos dados por meio de gráfico\n",
        "import numpy as np # Biblioteca de manipulação de arrays Numpy\n",
        "import pandas as pd # Biblioteca para manipulação de dados, aqui especificamente para importação e manipulação inicial do dataset\n",
        "from google.colab import drive # Biblioteca para interação do colab com o drive\n",
        "drive.mount('/content/drive') # Montando o Google Drive na mesma conta do Google Colab\n",
        "import seaborn as sns # Seaborn é uma biblioteca de visualização de dados Python baseada em matplotlib."
      ]
    },
    {
      "cell_type": "markdown",
      "source": [
        "Carregamento e Organização Inicial do Dataset"
      ],
      "metadata": {
        "id": "qmmSDIZMz7NO"
      }
    },
    {
      "cell_type": "code",
      "execution_count": 56,
      "metadata": {
        "id": "bnxvaPD6lREX",
        "colab": {
          "base_uri": "https://localhost:8080/",
          "height": 642
        },
        "outputId": "2c0e2394-ec92-42fd-eca4-f1d39431a457"
      },
      "outputs": [
        {
          "output_type": "execute_result",
          "data": {
            "text/plain": [
              "       x1      x2      x3       d\n",
              "0  0.8799  0.7998  0.3972  0.8399\n",
              "1  0.5700  0.5111  0.2418  0.6258\n",
              "2  0.6796  0.4117  0.3370  0.6622\n",
              "3  0.3567  0.2967  0.6037  0.5969\n",
              "4  0.3866  0.8390  0.0232  0.5316"
            ],
            "text/html": [
              "\n",
              "  <div id=\"df-ca6570cb-5a28-4e4e-8f67-960a246f86fb\" class=\"colab-df-container\">\n",
              "    <div>\n",
              "<style scoped>\n",
              "    .dataframe tbody tr th:only-of-type {\n",
              "        vertical-align: middle;\n",
              "    }\n",
              "\n",
              "    .dataframe tbody tr th {\n",
              "        vertical-align: top;\n",
              "    }\n",
              "\n",
              "    .dataframe thead th {\n",
              "        text-align: right;\n",
              "    }\n",
              "</style>\n",
              "<table border=\"1\" class=\"dataframe\">\n",
              "  <thead>\n",
              "    <tr style=\"text-align: right;\">\n",
              "      <th></th>\n",
              "      <th>x1</th>\n",
              "      <th>x2</th>\n",
              "      <th>x3</th>\n",
              "      <th>d</th>\n",
              "    </tr>\n",
              "  </thead>\n",
              "  <tbody>\n",
              "    <tr>\n",
              "      <th>0</th>\n",
              "      <td>0.8799</td>\n",
              "      <td>0.7998</td>\n",
              "      <td>0.3972</td>\n",
              "      <td>0.8399</td>\n",
              "    </tr>\n",
              "    <tr>\n",
              "      <th>1</th>\n",
              "      <td>0.5700</td>\n",
              "      <td>0.5111</td>\n",
              "      <td>0.2418</td>\n",
              "      <td>0.6258</td>\n",
              "    </tr>\n",
              "    <tr>\n",
              "      <th>2</th>\n",
              "      <td>0.6796</td>\n",
              "      <td>0.4117</td>\n",
              "      <td>0.3370</td>\n",
              "      <td>0.6622</td>\n",
              "    </tr>\n",
              "    <tr>\n",
              "      <th>3</th>\n",
              "      <td>0.3567</td>\n",
              "      <td>0.2967</td>\n",
              "      <td>0.6037</td>\n",
              "      <td>0.5969</td>\n",
              "    </tr>\n",
              "    <tr>\n",
              "      <th>4</th>\n",
              "      <td>0.3866</td>\n",
              "      <td>0.8390</td>\n",
              "      <td>0.0232</td>\n",
              "      <td>0.5316</td>\n",
              "    </tr>\n",
              "  </tbody>\n",
              "</table>\n",
              "</div>\n",
              "    <div class=\"colab-df-buttons\">\n",
              "\n",
              "  <div class=\"colab-df-container\">\n",
              "    <button class=\"colab-df-convert\" onclick=\"convertToInteractive('df-ca6570cb-5a28-4e4e-8f67-960a246f86fb')\"\n",
              "            title=\"Convert this dataframe to an interactive table.\"\n",
              "            style=\"display:none;\">\n",
              "\n",
              "  <svg xmlns=\"http://www.w3.org/2000/svg\" height=\"24px\" viewBox=\"0 -960 960 960\">\n",
              "    <path d=\"M120-120v-720h720v720H120Zm60-500h600v-160H180v160Zm220 220h160v-160H400v160Zm0 220h160v-160H400v160ZM180-400h160v-160H180v160Zm440 0h160v-160H620v160ZM180-180h160v-160H180v160Zm440 0h160v-160H620v160Z\"/>\n",
              "  </svg>\n",
              "    </button>\n",
              "\n",
              "  <style>\n",
              "    .colab-df-container {\n",
              "      display:flex;\n",
              "      gap: 12px;\n",
              "    }\n",
              "\n",
              "    .colab-df-convert {\n",
              "      background-color: #E8F0FE;\n",
              "      border: none;\n",
              "      border-radius: 50%;\n",
              "      cursor: pointer;\n",
              "      display: none;\n",
              "      fill: #1967D2;\n",
              "      height: 32px;\n",
              "      padding: 0 0 0 0;\n",
              "      width: 32px;\n",
              "    }\n",
              "\n",
              "    .colab-df-convert:hover {\n",
              "      background-color: #E2EBFA;\n",
              "      box-shadow: 0px 1px 2px rgba(60, 64, 67, 0.3), 0px 1px 3px 1px rgba(60, 64, 67, 0.15);\n",
              "      fill: #174EA6;\n",
              "    }\n",
              "\n",
              "    .colab-df-buttons div {\n",
              "      margin-bottom: 4px;\n",
              "    }\n",
              "\n",
              "    [theme=dark] .colab-df-convert {\n",
              "      background-color: #3B4455;\n",
              "      fill: #D2E3FC;\n",
              "    }\n",
              "\n",
              "    [theme=dark] .colab-df-convert:hover {\n",
              "      background-color: #434B5C;\n",
              "      box-shadow: 0px 1px 3px 1px rgba(0, 0, 0, 0.15);\n",
              "      filter: drop-shadow(0px 1px 2px rgba(0, 0, 0, 0.3));\n",
              "      fill: #FFFFFF;\n",
              "    }\n",
              "  </style>\n",
              "\n",
              "    <script>\n",
              "      const buttonEl =\n",
              "        document.querySelector('#df-ca6570cb-5a28-4e4e-8f67-960a246f86fb button.colab-df-convert');\n",
              "      buttonEl.style.display =\n",
              "        google.colab.kernel.accessAllowed ? 'block' : 'none';\n",
              "\n",
              "      async function convertToInteractive(key) {\n",
              "        const element = document.querySelector('#df-ca6570cb-5a28-4e4e-8f67-960a246f86fb');\n",
              "        const dataTable =\n",
              "          await google.colab.kernel.invokeFunction('convertToInteractive',\n",
              "                                                    [key], {});\n",
              "        if (!dataTable) return;\n",
              "\n",
              "        const docLinkHtml = 'Like what you see? Visit the ' +\n",
              "          '<a target=\"_blank\" href=https://colab.research.google.com/notebooks/data_table.ipynb>data table notebook</a>'\n",
              "          + ' to learn more about interactive tables.';\n",
              "        element.innerHTML = '';\n",
              "        dataTable['output_type'] = 'display_data';\n",
              "        await google.colab.output.renderOutput(dataTable, element);\n",
              "        const docLink = document.createElement('div');\n",
              "        docLink.innerHTML = docLinkHtml;\n",
              "        element.appendChild(docLink);\n",
              "      }\n",
              "    </script>\n",
              "  </div>\n",
              "\n",
              "\n",
              "<div id=\"df-d4558a40-a7b4-474f-afc6-aa3ad025c44d\">\n",
              "  <button class=\"colab-df-quickchart\" onclick=\"quickchart('df-d4558a40-a7b4-474f-afc6-aa3ad025c44d')\"\n",
              "            title=\"Suggest charts\"\n",
              "            style=\"display:none;\">\n",
              "\n",
              "<svg xmlns=\"http://www.w3.org/2000/svg\" height=\"24px\"viewBox=\"0 0 24 24\"\n",
              "     width=\"24px\">\n",
              "    <g>\n",
              "        <path d=\"M19 3H5c-1.1 0-2 .9-2 2v14c0 1.1.9 2 2 2h14c1.1 0 2-.9 2-2V5c0-1.1-.9-2-2-2zM9 17H7v-7h2v7zm4 0h-2V7h2v10zm4 0h-2v-4h2v4z\"/>\n",
              "    </g>\n",
              "</svg>\n",
              "  </button>\n",
              "\n",
              "<style>\n",
              "  .colab-df-quickchart {\n",
              "      --bg-color: #E8F0FE;\n",
              "      --fill-color: #1967D2;\n",
              "      --hover-bg-color: #E2EBFA;\n",
              "      --hover-fill-color: #174EA6;\n",
              "      --disabled-fill-color: #AAA;\n",
              "      --disabled-bg-color: #DDD;\n",
              "  }\n",
              "\n",
              "  [theme=dark] .colab-df-quickchart {\n",
              "      --bg-color: #3B4455;\n",
              "      --fill-color: #D2E3FC;\n",
              "      --hover-bg-color: #434B5C;\n",
              "      --hover-fill-color: #FFFFFF;\n",
              "      --disabled-bg-color: #3B4455;\n",
              "      --disabled-fill-color: #666;\n",
              "  }\n",
              "\n",
              "  .colab-df-quickchart {\n",
              "    background-color: var(--bg-color);\n",
              "    border: none;\n",
              "    border-radius: 50%;\n",
              "    cursor: pointer;\n",
              "    display: none;\n",
              "    fill: var(--fill-color);\n",
              "    height: 32px;\n",
              "    padding: 0;\n",
              "    width: 32px;\n",
              "  }\n",
              "\n",
              "  .colab-df-quickchart:hover {\n",
              "    background-color: var(--hover-bg-color);\n",
              "    box-shadow: 0 1px 2px rgba(60, 64, 67, 0.3), 0 1px 3px 1px rgba(60, 64, 67, 0.15);\n",
              "    fill: var(--button-hover-fill-color);\n",
              "  }\n",
              "\n",
              "  .colab-df-quickchart-complete:disabled,\n",
              "  .colab-df-quickchart-complete:disabled:hover {\n",
              "    background-color: var(--disabled-bg-color);\n",
              "    fill: var(--disabled-fill-color);\n",
              "    box-shadow: none;\n",
              "  }\n",
              "\n",
              "  .colab-df-spinner {\n",
              "    border: 2px solid var(--fill-color);\n",
              "    border-color: transparent;\n",
              "    border-bottom-color: var(--fill-color);\n",
              "    animation:\n",
              "      spin 1s steps(1) infinite;\n",
              "  }\n",
              "\n",
              "  @keyframes spin {\n",
              "    0% {\n",
              "      border-color: transparent;\n",
              "      border-bottom-color: var(--fill-color);\n",
              "      border-left-color: var(--fill-color);\n",
              "    }\n",
              "    20% {\n",
              "      border-color: transparent;\n",
              "      border-left-color: var(--fill-color);\n",
              "      border-top-color: var(--fill-color);\n",
              "    }\n",
              "    30% {\n",
              "      border-color: transparent;\n",
              "      border-left-color: var(--fill-color);\n",
              "      border-top-color: var(--fill-color);\n",
              "      border-right-color: var(--fill-color);\n",
              "    }\n",
              "    40% {\n",
              "      border-color: transparent;\n",
              "      border-right-color: var(--fill-color);\n",
              "      border-top-color: var(--fill-color);\n",
              "    }\n",
              "    60% {\n",
              "      border-color: transparent;\n",
              "      border-right-color: var(--fill-color);\n",
              "    }\n",
              "    80% {\n",
              "      border-color: transparent;\n",
              "      border-right-color: var(--fill-color);\n",
              "      border-bottom-color: var(--fill-color);\n",
              "    }\n",
              "    90% {\n",
              "      border-color: transparent;\n",
              "      border-bottom-color: var(--fill-color);\n",
              "    }\n",
              "  }\n",
              "</style>\n",
              "\n",
              "  <script>\n",
              "    async function quickchart(key) {\n",
              "      const quickchartButtonEl =\n",
              "        document.querySelector('#' + key + ' button');\n",
              "      quickchartButtonEl.disabled = true;  // To prevent multiple clicks.\n",
              "      quickchartButtonEl.classList.add('colab-df-spinner');\n",
              "      try {\n",
              "        const charts = await google.colab.kernel.invokeFunction(\n",
              "            'suggestCharts', [key], {});\n",
              "      } catch (error) {\n",
              "        console.error('Error during call to suggestCharts:', error);\n",
              "      }\n",
              "      quickchartButtonEl.classList.remove('colab-df-spinner');\n",
              "      quickchartButtonEl.classList.add('colab-df-quickchart-complete');\n",
              "    }\n",
              "    (() => {\n",
              "      let quickchartButtonEl =\n",
              "        document.querySelector('#df-d4558a40-a7b4-474f-afc6-aa3ad025c44d button');\n",
              "      quickchartButtonEl.style.display =\n",
              "        google.colab.kernel.accessAllowed ? 'block' : 'none';\n",
              "    })();\n",
              "  </script>\n",
              "</div>\n",
              "\n",
              "    </div>\n",
              "  </div>\n"
            ],
            "application/vnd.google.colaboratory.intrinsic+json": {
              "type": "dataframe",
              "variable_name": "df",
              "summary": "{\n  \"name\": \"df\",\n  \"rows\": 200,\n  \"fields\": [\n    {\n      \"column\": \"x1\",\n      \"properties\": {\n        \"dtype\": \"number\",\n        \"std\": 0.30662236172742935,\n        \"min\": 0.0,\n        \"max\": 1.0,\n        \"num_unique_values\": 196,\n        \"samples\": [\n          0.7931,\n          0.2702,\n          0.0023\n        ],\n        \"semantic_type\": \"\",\n        \"description\": \"\"\n      }\n    },\n    {\n      \"column\": \"x2\",\n      \"properties\": {\n        \"dtype\": \"number\",\n        \"std\": 0.303001771986377,\n        \"min\": 0.0,\n        \"max\": 1.0,\n        \"num_unique_values\": 196,\n        \"samples\": [\n          0.9688,\n          0.8617,\n          0.9659\n        ],\n        \"semantic_type\": \"\",\n        \"description\": \"\"\n      }\n    },\n    {\n      \"column\": \"x3\",\n      \"properties\": {\n        \"dtype\": \"number\",\n        \"std\": 0.28452301522012197,\n        \"min\": 0.0,\n        \"max\": 1.0,\n        \"num_unique_values\": 199,\n        \"samples\": [\n          0.5251,\n          0.9184,\n          0.2762\n        ],\n        \"semantic_type\": \"\",\n        \"description\": \"\"\n      }\n    },\n    {\n      \"column\": \"d\",\n      \"properties\": {\n        \"dtype\": \"number\",\n        \"std\": 0.18087205589315083,\n        \"min\": 0.0851,\n        \"max\": 0.9904,\n        \"num_unique_values\": 195,\n        \"samples\": [\n          0.9728,\n          0.4986,\n          0.6911\n        ],\n        \"semantic_type\": \"\",\n        \"description\": \"\"\n      }\n    }\n  ]\n}"
            }
          },
          "metadata": {},
          "execution_count": 56
        },
        {
          "output_type": "display_data",
          "data": {
            "text/plain": [
              "<Figure size 640x480 with 2 Axes>"
            ],
            "image/png": "[encoded data removed]"
          },
          "metadata": {}
        }
      ],
      "source": [
        "# Caminho do dataset no Google Drive que será carregado em df\n",
        "df = pd.read_csv(\"/content/drive/MyDrive/Colab_Notebooks/Redes_Naurais/ressonanciaMLP.csv\") # Carregamento do dataset via Pandas\n",
        "\n",
        "# Gera um gráfico matricial para apresentar a correção entre as variáveis de entrada do dataset\n",
        "ax = sns.heatmap(df.corr(numeric_only=True), annot=True, cmap=sns.cubehelix_palette(as_cmap=True))\n",
        "ax.set_title('Mapa de correlação de todas as variáveis do dataset')\n",
        "ax=ax\n",
        "\n",
        "df.head()"
      ]
    },
    {
      "cell_type": "markdown",
      "source": [
        "Pré-Processamento dos Dados"
      ],
      "metadata": {
        "id": "CFS4VE4l2eyt"
      }
    },
    {
      "cell_type": "code",
      "source": [
        "x = df.drop('d', axis=1) # Exclusão da variável das entradas\n",
        "y = df['d'] # Inclusão da variável no vetor de saídas desejadas\n",
        "\n",
        "# Padronização de dados\n",
        "scaler = StandardScaler().fit(x) # Cria o modelo para o ajuste\n",
        "x = scaler.transform(x) # Aplica a padronização no dataset de treinamento baseado nos dados de treinamento"
      ],
      "metadata": {
        "id": "ivGsp6qJ2fQZ"
      },
      "execution_count": 57,
      "outputs": []
    },
    {
      "cell_type": "markdown",
      "source": [
        "Aplicação do MLPRegressor"
      ],
      "metadata": {
        "id": "D1yFfD313Xii"
      }
    },
    {
      "cell_type": "code",
      "source": [
        "mlp_reg = MLPRegressor(hidden_layer_sizes=(30), activation='relu', solver='adam', alpha=0.01,\n",
        "                       max_iter=5000, tol=0.0001, momentum=0.9, early_stopping=True, epsilon=1e-06,\n",
        "                       n_iter_no_change=10) # Deve variar os parâmetros conforme solicita o enunciado\n",
        "\n",
        "# Execução do treinamento da RNA, no primeiro parâmetro são os dados de entrada e no segundo parâmetro são os dados de saída\n",
        "mlp_reg.fit(x, y)\n",
        "\n",
        "print(\"Função de Ativação Saída: \", mlp_reg.out_activation_)\n",
        "print(\"Épocas no Treinamento: \", mlp_reg.n_iter_)\n",
        "print(\"Perda Final: \", mlp_reg.loss_)"
      ],
      "metadata": {
        "id": "UF6L0uQg3YPp",
        "colab": {
          "base_uri": "https://localhost:8080/"
        },
        "outputId": "cfc1e606-0f5a-4766-dec0-f1c27898d577"
      },
      "execution_count": 58,
      "outputs": [
        {
          "output_type": "stream",
          "name": "stdout",
          "text": [
            "Função de Ativação Saída:  identity\n",
            "Épocas no Treinamento:  874\n",
            "Perda Final:  0.0006043586396567742\n"
          ]
        }
      ]
    },
    {
      "cell_type": "markdown",
      "source": [
        "Avaliação do Erro no Processo de Treinamento"
      ],
      "metadata": {
        "id": "RPvIi2gYT2sF"
      }
    },
    {
      "cell_type": "code",
      "source": [
        "plt.plot(mlp_reg.loss_curve_) # Plotando o gráfico de erros no processo de treinamento\n",
        "plt.title(\"Curva de Perda no Treinamento\", fontsize=14)\n",
        "plt.xlabel('Épocas')\n",
        "plt.ylabel('Custo')\n",
        "plt.show()"
      ],
      "metadata": {
        "colab": {
          "base_uri": "https://localhost:8080/",
          "height": 475
        },
        "id": "jP9WnwNcTy7Q",
        "outputId": "10660bdf-e248-4d89-90f2-5e82c275068d"
      },
      "execution_count": 59,
      "outputs": [
        {
          "output_type": "display_data",
          "data": {
            "text/plain": [
              "<Figure size 640x480 with 1 Axes>"
            ],
            "image/png": "[encoded data removed]"
          },
          "metadata": {}
        }
      ]
    },
    {
      "cell_type": "markdown",
      "source": [
        "Avaliação do Modelo com a Próprias Amostras Treinadas"
      ],
      "metadata": {
        "id": "k-XzvFPB3mfP"
      }
    },
    {
      "cell_type": "code",
      "source": [
        "y_pred = mlp_reg.predict(x)\n",
        "\n",
        "df_temp = pd.DataFrame({'Desejado': y, 'Estimado': y_pred}) # Criação de um dataframe com os dados desejados e os estimados na predição\n",
        "df_temp = df_temp.head(40) # Armazena a quantidade de elementos a serem apresentados no gráfico, pois pode ser visualmente difícil de abstrair caso tenham muitas informações\n",
        "df_temp.plot(kind='bar',figsize=(10,6)) # Configuração do tipo de gráfico 'bar' e tamanho da figura\n",
        "plt.grid(which='major', linestyle='-', linewidth='0.5', color='gray') # Configuração do grid do gráfico\n",
        "plt.grid(which='minor', linestyle=':', linewidth='0.5', color='blue') # Configuração do grid do gráfico\n",
        "plt.show() # Apresenta o gráfico comparando o desejado e o estimado pelo modelo neural"
      ],
      "metadata": {
        "id": "p9P0zhm73o_F",
        "colab": {
          "base_uri": "https://localhost:8080/",
          "height": 526
        },
        "outputId": "c889f984-49e5-42a1-d17e-8d3ac606323b"
      },
      "execution_count": 60,
      "outputs": [
        {
          "output_type": "display_data",
          "data": {
            "text/plain": [
              "<Figure size 1000x600 with 1 Axes>"
            ],
            "image/png": "[encoded data removed]"
          },
          "metadata": {}
        }
      ]
    },
    {
      "cell_type": "markdown",
      "source": [
        "Resumo das Métricas"
      ],
      "metadata": {
        "id": "KcHrj3pPDexi"
      }
    },
    {
      "cell_type": "code",
      "source": [
        "print('Mean Absolute Error (MAE):', metrics.mean_absolute_error(y, y_pred)) # Variação de 0 ao infinito. Quanto menor, melhor.\n",
        "print('Mean Squared Error (MSE):', metrics.mean_squared_error(y, y_pred)) # Variação de 0 ao infinito. Quanto menor, melhor.\n",
        "print('Root Mean Squared Error (RMSE):', metrics.mean_squared_error(y, y_pred, squared=False)) # Variação de 0 ao infinito. Quanto menor, melhor.\n",
        "print('Mean Absolute Percentage Error (MAPE):', metrics.mean_absolute_percentage_error(y, y_pred)) # Apresenta em porcentagem de erros em relação ao desejado.\n",
        "print('R2 Score: ', metrics.r2_score(y, y_pred))"
      ],
      "metadata": {
        "id": "KbdxFWI7DfXL",
        "colab": {
          "base_uri": "https://localhost:8080/"
        },
        "outputId": "72406b5d-9259-41f1-e521-fcba9e816c7f"
      },
      "execution_count": 61,
      "outputs": [
        {
          "output_type": "stream",
          "name": "stdout",
          "text": [
            "Mean Absolute Error (MAE): 0.0218450574148936\n",
            "Mean Squared Error (MSE): 0.0007716760590435018\n",
            "Root Mean Squared Error (RMSE): 0.027779057922174066\n",
            "Mean Absolute Percentage Error (MAPE): 0.04038774780180516\n",
            "R2 Score:  0.9762934150736826\n"
          ]
        }
      ]
    },
    {
      "cell_type": "markdown",
      "source": [
        "**Validando o Modelo Treinado com Amostras não Treinadas - Questão 3**"
      ],
      "metadata": {
        "id": "mGPljTwzUgtT"
      }
    },
    {
      "cell_type": "code",
      "source": [
        "# Caminho do dataset no Google Drive que será carregado em df2 para validar o exercício\n",
        "df2 = pd.read_csv(\"/content/drive/MyDrive/Colab_Notebooks/Redes_Naurais/ressonanciaMLPTest.csv\")\n",
        "xT = df2.drop('d', axis=1)\n",
        "yT = df2['d']\n",
        "\n",
        "xT = scaler.transform(xT)\n",
        "\n",
        "y_predT = mlp_reg.predict(xT)\n",
        "\n",
        "print('Mean Absolute Error (MAE):', metrics.mean_absolute_error(yT, y_predT)) # Variação de 0 ao infinito. Quanto menor, melhor.\n",
        "print('Mean Squared Error (MSE):', metrics.mean_squared_error(yT, y_predT)) # Variação de 0 ao infinito. Quanto menor, melhor.\n",
        "print('Root Mean Squared Error (RMSE):', metrics.mean_squared_error(yT, y_predT, squared=False)) # Variação de 0 ao infinito. Quanto menor, melhor.\n",
        "print('Mean Absolute Percentage Error (MAPE):', metrics.mean_absolute_percentage_error(yT, y_predT)) # Apresenta em porcentagem de erros em relação ao desejado.\n",
        "print('R2 Score: ', metrics.r2_score(yT, y_predT))\n",
        "print('')\n",
        "\n",
        "df_temp = pd.DataFrame({'Desejado': yT, 'Estimado': y_predT}) # Criação de um dataframe com os dados desejados e os estimados na predição\n",
        "df_temp = df_temp.head(40) # Armazena a quantidade de elementos a serem apresentados no gráfico, pois pode ser visualmente difícil de abstrair caso tenham muitas informações\n",
        "df_temp.plot(kind='bar',figsize=(10,6)) # Configuração do tipo de gráfico 'bar' e tamanho da figura\n",
        "plt.grid(which='major', linestyle='-', linewidth='0.5', color='gray') # Configuração do grid do gráfico\n",
        "plt.grid(which='minor', linestyle=':', linewidth='0.5', color='blue') # Configuração do grid do gráfico\n",
        "plt.show() # Apresenta o gráfico comparando o desejado e o estimado pelo modelo neural"
      ],
      "metadata": {
        "colab": {
          "base_uri": "https://localhost:8080/",
          "height": 630
        },
        "id": "E8vDUUQrQLSi",
        "outputId": "f713e12f-2851-46a3-a20c-b76b8867c176"
      },
      "execution_count": 62,
      "outputs": [
        {
          "output_type": "stream",
          "name": "stdout",
          "text": [
            "Mean Absolute Error (MAE): 0.03426155156934851\n",
            "Mean Squared Error (MSE): 0.0016996064034184785\n",
            "Root Mean Squared Error (RMSE): 0.041226282920225524\n",
            "Mean Absolute Percentage Error (MAPE): 0.05906975239754941\n",
            "R2 Score:  0.9212506307469666\n",
            "\n"
          ]
        },
        {
          "output_type": "display_data",
          "data": {
            "text/plain": [
              "<Figure size 1000x600 with 1 Axes>"
            ],
            "image/png": "[encoded data removed]"
          },
          "metadata": {}
        }
      ]
    },
    {
      "cell_type": "markdown",
      "source": [
        "**Início dos treinamentos**"
      ],
      "metadata": {
        "id": "esrMX_nNdwtc"
      }
    },
    {
      "cell_type": "code",
      "source": [
        "# Criando o modelo MLPRegressor com 5 neurônios na camada oculta, função de ativação tangente hiperbólica (tanh),\n",
        "# otimizador Adam, taxa de regularização alpha de 0.01, máximo de 1000 iterações, taxa de aprendizagem inicial de 0.01,\n",
        "# tolerância de 0.0001 para a convergência, momentum de 0.9, parada antecipada habilitada, epsilon de 1e-06 para a melhoria mínima\n",
        "# no treinamento, máximo de 10 épocas sem melhoria para parar o treinamento, e estado aleatório fixo em 12.\n",
        "\n",
        "mlpr_1 = MLPRegressor(hidden_layer_sizes=(5,), activation='tanh', solver='adam', alpha=0.01,\n",
        "                       max_iter=1000, learning_rate_init=0.01, tol=0.0001, momentum=0.9, early_stopping=True, epsilon=1e-06,\n",
        "                       n_iter_no_change=10, random_state=12)\n",
        "mlpr_1.fit(x, y)\n",
        "\n",
        "print(\"Treinamento: 1\")\n",
        "print(\"Neurônios: \", mlpr_1.hidden_layer_sizes[0])\n",
        "print(\"Ativação: \", mlpr_1.activation)\n",
        "print(\"Perda Final: \", mlpr_1.loss_)\n",
        "print(\"Número de Épocas: \", mlpr_1.n_iter_)"
      ],
      "metadata": {
        "colab": {
          "base_uri": "https://localhost:8080/"
        },
        "id": "grZlqUBZLC-q",
        "outputId": "ff6c0d07-911d-41dd-bb09-6552539705ae"
      },
      "execution_count": 63,
      "outputs": [
        {
          "output_type": "stream",
          "name": "stdout",
          "text": [
            "Treinamento: 1\n",
            "Neurônios:  5\n",
            "Ativação:  tanh\n",
            "Perda Final:  0.011279827862555715\n",
            "Número de Épocas:  46\n"
          ]
        }
      ]
    },
    {
      "cell_type": "code",
      "source": [
        "mlpr_2 = MLPRegressor(hidden_layer_sizes=(10,), activation='tanh', solver='adam', alpha=0.01,\n",
        "                       max_iter=1000, learning_rate_init=0.01, tol=0.0001, momentum=0.9, early_stopping=True, epsilon=1e-06,\n",
        "                       n_iter_no_change=10, random_state=12)\n",
        "mlpr_2.fit(x, y)\n",
        "\n",
        "print(\"Treinamento: 2\")\n",
        "print(\"Neurônios: \", mlpr_2.hidden_layer_sizes[0])\n",
        "print(\"Ativação: \", mlpr_2.activation)\n",
        "print(\"Perda Final: \", mlpr_2.loss_)\n",
        "print(\"Número de Épocas: \", mlpr_2.n_iter_)"
      ],
      "metadata": {
        "colab": {
          "base_uri": "https://localhost:8080/"
        },
        "id": "0Sluw-JKM7yO",
        "outputId": "217038da-e370-4178-caa5-bdb22d3c7466"
      },
      "execution_count": 64,
      "outputs": [
        {
          "output_type": "stream",
          "name": "stdout",
          "text": [
            "Treinamento: 2\n",
            "Neurônios:  10\n",
            "Ativação:  tanh\n",
            "Perda Final:  0.018799317044292635\n",
            "Número de Épocas:  39\n"
          ]
        }
      ]
    },
    {
      "cell_type": "code",
      "source": [
        "mlpr_3 = MLPRegressor(hidden_layer_sizes=(15,), activation='tanh', solver='adam', alpha=0.01,\n",
        "                       max_iter=1000, learning_rate_init=0.01, tol=0.0001, momentum=0.9, early_stopping=True, epsilon=1e-06,\n",
        "                       n_iter_no_change=10, random_state=12)\n",
        "mlpr_3.fit(x, y)\n",
        "\n",
        "print(\"Treinamento: 3\")\n",
        "print(\"Neurônios: \", mlpr_3.hidden_layer_sizes[0])\n",
        "print(\"Ativação: \", mlpr_3.activation)\n",
        "print(\"Perda Final: \", mlpr_3.loss_)\n",
        "print(\"Número de Épocas: \", mlpr_3.n_iter_)\n"
      ],
      "metadata": {
        "colab": {
          "base_uri": "https://localhost:8080/"
        },
        "id": "rw9WGi3SNXXW",
        "outputId": "997c4999-13bb-4519-cc88-f8324d86b95d"
      },
      "execution_count": 65,
      "outputs": [
        {
          "output_type": "stream",
          "name": "stdout",
          "text": [
            "Treinamento: 3\n",
            "Neurônios:  15\n",
            "Ativação:  tanh\n",
            "Perda Final:  0.010658133923811172\n",
            "Número de Épocas:  23\n"
          ]
        }
      ]
    },
    {
      "cell_type": "code",
      "source": [
        "mlpr_4 = MLPRegressor(hidden_layer_sizes=(5,), activation='relu', solver='adam', alpha=0.01,\n",
        "                       max_iter=1000, learning_rate_init=0.01, tol=0.0001, momentum=0.9, early_stopping=True, epsilon=1e-06,\n",
        "                       n_iter_no_change=10, random_state=12)\n",
        "mlpr_4.fit(x, y)\n",
        "\n",
        "print(\"Treinamento: 4\")\n",
        "print(\"Neurônios: \", mlpr_4.hidden_layer_sizes[0])\n",
        "print(\"Ativação: \", mlpr_4.activation)\n",
        "print(\"Perda Final: \", mlpr_4.loss_)\n",
        "print(\"Número de Épocas: \", mlpr_4.n_iter_)"
      ],
      "metadata": {
        "colab": {
          "base_uri": "https://localhost:8080/"
        },
        "id": "w2zKZi3fNY12",
        "outputId": "3af4aed1-b5c6-48e6-d55e-85783c871f9e"
      },
      "execution_count": 66,
      "outputs": [
        {
          "output_type": "stream",
          "name": "stdout",
          "text": [
            "Treinamento: 4\n",
            "Neurônios:  5\n",
            "Ativação:  relu\n",
            "Perda Final:  0.001431905824437742\n",
            "Número de Épocas:  366\n"
          ]
        }
      ]
    },
    {
      "cell_type": "markdown",
      "source": [
        "**Melhor configuração - Treinamento 5 - Gráfico de Loss - Questão 2**"
      ],
      "metadata": {
        "id": "3FX2R6JYZnqb"
      }
    },
    {
      "cell_type": "code",
      "source": [
        "# Criando o modelo MLPRegressor com 10 neurônios na camada oculta, função de ativação ReLU,\n",
        "# otimizador Adam, taxa de regularização alpha de 0.01, máximo de 1000 iterações, taxa de aprendizagem inicial de 0.01,\n",
        "# tolerância de 0.0001 para a convergência, momentum de 0.9, parada antecipada habilitada, epsilon de 1e-06 para a melhoria mínima\n",
        "# no treinamento, máximo de 10 épocas sem melhoria para parar o treinamento, e estado aleatório fixo em 12.\n",
        "\n",
        "mlpr_5 = MLPRegressor(hidden_layer_sizes=(10,), activation='relu', solver='adam', alpha=0.01,\n",
        "                       max_iter=1000, learning_rate_init=0.01, tol=0.0001, momentum=0.9, early_stopping=True, epsilon=1e-06,\n",
        "                       n_iter_no_change=10, random_state=12)\n",
        "mlpr_5.fit(x, y) # Treinando o modelo com os dados de entrada x e saída y\n",
        "\n",
        "plt.plot(mlpr_5.loss_curve_)\n",
        "plt.title(\"Curva de Perda no Treinamento 5\", fontsize=14)\n",
        "plt.xlabel('Épocas')\n",
        "plt.ylabel('Custo')\n",
        "plt.show()\n",
        "\n",
        "print(\"Treinamento: 5\")\n",
        "print(\"Neurônios: \", mlpr_5.hidden_layer_sizes[0])\n",
        "print(\"Ativação: \", mlpr_5.activation)\n",
        "print(\"Perda Final: \", mlpr_5.loss_)\n",
        "print(\"Número de Épocas: \", mlpr_5.n_iter_)"
      ],
      "metadata": {
        "colab": {
          "base_uri": "https://localhost:8080/",
          "height": 562
        },
        "id": "5gb1GZyfNrSH",
        "outputId": "cc22393c-56a3-4c5b-e00d-bd47d52fe6e6"
      },
      "execution_count": 67,
      "outputs": [
        {
          "output_type": "display_data",
          "data": {
            "text/plain": [
              "<Figure size 640x480 with 1 Axes>"
            ],
            "image/png": "[encoded data removed]"
          },
          "metadata": {}
        },
        {
          "output_type": "stream",
          "name": "stdout",
          "text": [
            "Treinamento: 5\n",
            "Neurônios:  10\n",
            "Ativação:  relu\n",
            "Perda Final:  0.000606624868133049\n",
            "Número de Épocas:  225\n"
          ]
        }
      ]
    },
    {
      "cell_type": "code",
      "source": [
        "mlpr_6 = MLPRegressor(hidden_layer_sizes=(15,), activation='relu', solver='adam', alpha=0.01,\n",
        "                       max_iter=1000, learning_rate_init=0.01, tol=0.0001, momentum=0.9, early_stopping=True, epsilon=1e-06,\n",
        "                       n_iter_no_change=10, random_state=12)\n",
        "mlpr_6.fit(x, y)\n",
        "\n",
        "print(\"Treinamento: 6\")\n",
        "print(\"Neurônios: \", mlpr_6.hidden_layer_sizes[0])\n",
        "print(\"Ativação: \", mlpr_6.activation)\n",
        "print(\"Perda Final: \", mlpr_6.loss_)\n",
        "print(\"Número de Épocas: \", mlpr_6.n_iter_)"
      ],
      "metadata": {
        "colab": {
          "base_uri": "https://localhost:8080/"
        },
        "id": "oEh7qYqwNxhu",
        "outputId": "d9a41519-2134-4a5c-c08c-3b8821f6a4cc"
      },
      "execution_count": 68,
      "outputs": [
        {
          "output_type": "stream",
          "name": "stdout",
          "text": [
            "Treinamento: 6\n",
            "Neurônios:  15\n",
            "Ativação:  relu\n",
            "Perda Final:  0.0032926441261320076\n",
            "Número de Épocas:  21\n"
          ]
        }
      ]
    },
    {
      "cell_type": "code",
      "source": [
        "mlpr_7 = MLPRegressor(hidden_layer_sizes=(5,), activation='logistic', solver='adam', alpha=0.01,\n",
        "                       max_iter=1000, learning_rate_init=0.01, tol=0.0001, momentum=0.9, early_stopping=True, epsilon=1e-06,\n",
        "                       n_iter_no_change=10, random_state=12)\n",
        "mlpr_7.fit(x, y)\n",
        "\n",
        "print(\"Treinamento: 7\")\n",
        "print(\"Neurônios: \", mlpr_7.hidden_layer_sizes[0])\n",
        "print(\"Ativação: \", mlpr_7.activation)\n",
        "print(\"Perda Final: \", mlpr_7.loss_)\n",
        "print(\"Número de Épocas: \", mlpr_7.n_iter_)"
      ],
      "metadata": {
        "colab": {
          "base_uri": "https://localhost:8080/"
        },
        "id": "UvqtrawSOIWH",
        "outputId": "e67ef269-f77c-4fd8-8600-605dda7f93d4"
      },
      "execution_count": 69,
      "outputs": [
        {
          "output_type": "stream",
          "name": "stdout",
          "text": [
            "Treinamento: 7\n",
            "Neurônios:  5\n",
            "Ativação:  logistic\n",
            "Perda Final:  0.0007432137504136059\n",
            "Número de Épocas:  126\n"
          ]
        }
      ]
    },
    {
      "cell_type": "code",
      "source": [
        "mlpr_8 = MLPRegressor(hidden_layer_sizes=(10,), activation='logistic', solver='adam', alpha=0.01,\n",
        "                       max_iter=1000, learning_rate_init=0.01, tol=0.0001, momentum=0.9, early_stopping=True, epsilon=1e-06,\n",
        "                       n_iter_no_change=10, random_state=12)\n",
        "mlpr_8.fit(x, y)\n",
        "\n",
        "print(\"Treinamento: 8\")\n",
        "print(\"Neurônios: \", mlpr_8.hidden_layer_sizes[0])\n",
        "print(\"Ativação: \", mlpr_8.activation)\n",
        "print(\"Perda Final: \", mlpr_8.loss_)\n",
        "print(\"Número de Épocas: \", mlpr_8.n_iter_)"
      ],
      "metadata": {
        "colab": {
          "base_uri": "https://localhost:8080/"
        },
        "id": "_jcnXBkXOdMv",
        "outputId": "ea9a3617-e920-4070-f6b8-64e173cf079b"
      },
      "execution_count": 70,
      "outputs": [
        {
          "output_type": "stream",
          "name": "stdout",
          "text": [
            "Treinamento: 8\n",
            "Neurônios:  10\n",
            "Ativação:  logistic\n",
            "Perda Final:  0.01957026215706161\n",
            "Número de Épocas:  29\n"
          ]
        }
      ]
    },
    {
      "cell_type": "code",
      "source": [
        "mlpr_9 = MLPRegressor(hidden_layer_sizes=(15,), activation='logistic', solver='adam', alpha=0.01,\n",
        "                       max_iter=1000, learning_rate_init=0.01, tol=0.0001, momentum=0.9, early_stopping=True, epsilon=1e-06,\n",
        "                       n_iter_no_change=10, random_state=12)\n",
        "mlpr_9.fit(x, y)\n",
        "\n",
        "print(\"Treinamento: 9\")\n",
        "print(\"Neurônios: \", mlpr_9.hidden_layer_sizes[0])\n",
        "print(\"Ativação: \", mlpr_9.activation)\n",
        "print(\"Perda Final: \", mlpr_9.loss_)\n",
        "print(\"Número de Épocas: \", mlpr_9.n_iter_)"
      ],
      "metadata": {
        "colab": {
          "base_uri": "https://localhost:8080/"
        },
        "id": "xngsRF7AOjBV",
        "outputId": "15ada2db-2ce3-4ffb-9fdb-f4ce5afa5b72"
      },
      "execution_count": 71,
      "outputs": [
        {
          "output_type": "stream",
          "name": "stdout",
          "text": [
            "Treinamento: 9\n",
            "Neurônios:  15\n",
            "Ativação:  logistic\n",
            "Perda Final:  0.0009612734759292477\n",
            "Número de Épocas:  41\n"
          ]
        }
      ]
    },
    {
      "cell_type": "markdown",
      "source": [
        "**Planilha com os resultados das configurações - Questão 1**"
      ],
      "metadata": {
        "id": "2C3T1kfYZ_-F"
      }
    },
    {
      "cell_type": "code",
      "source": [
        "# Dados dos treinamentos\n",
        "data = {\n",
        "    'Treinamento': [1, 2, 3, 4, 5, 6, 7, 8, 9],\n",
        "    'Neurônios': [5, 10, 15, 5, 10, 15, 5, 10, 15],\n",
        "    'Ativação': ['tanh', 'tanh', 'tanh', 'relu', 'relu', 'relu', 'logistic', 'logistic', 'logistic'],\n",
        "    'Perda Final': [0.011279827862555715, 0.018799317044292635, 0.010658133923811172, 0.001431905824437742, 0.000606624868133049, 0.0032926441261320076, 0.0007432137504136059, 0.01957026215706161, 0.0009612734759292477],\n",
        "    'Número de Épocas': [46, 39, 23, 366, 225, 21, 126, 29, 41],\n",
        "}\n",
        "\n",
        "# Criando o DataFrame\n",
        "df = pd.DataFrame(data)\n",
        "\n",
        "# Ordenando pelo número do treinamento\n",
        "df = df.sort_values('Treinamento')\n",
        "\n",
        "# Adicionando a coluna de Ranking da Melhor Configuração\n",
        "df['Ranking da Melhor Configuração'] = df['Perda Final'].rank()\n",
        "\n",
        "# Exibindo a tabela\n",
        "df\n"
      ],
      "metadata": {
        "colab": {
          "base_uri": "https://localhost:8080/",
          "height": 332
        },
        "id": "vRph4ePJPa5-",
        "outputId": "53372bf0-e7dd-45bf-ded6-9155fb4207f9"
      },
      "execution_count": 72,
      "outputs": [
        {
          "output_type": "execute_result",
          "data": {
            "text/plain": [
              "   Treinamento  Neurônios  Ativação  Perda Final  Número de Épocas  \\\n",
              "0            1          5      tanh     0.011280                46   \n",
              "1            2         10      tanh     0.018799                39   \n",
              "2            3         15      tanh     0.010658                23   \n",
              "3            4          5      relu     0.001432               366   \n",
              "4            5         10      relu     0.000607               225   \n",
              "5            6         15      relu     0.003293                21   \n",
              "6            7          5  logistic     0.000743               126   \n",
              "7            8         10  logistic     0.019570                29   \n",
              "8            9         15  logistic     0.000961                41   \n",
              "\n",
              "   Ranking da Melhor Configuração  \n",
              "0                             7.0  \n",
              "1                             8.0  \n",
              "2                             6.0  \n",
              "3                             4.0  \n",
              "4                             1.0  \n",
              "5                             5.0  \n",
              "6                             2.0  \n",
              "7                             9.0  \n",
              "8                             3.0  "
            ],
            "text/html": [
              "\n",
              "  <div id=\"df-0eea2fae-7d78-44e0-aeba-64f5b991a525\" class=\"colab-df-container\">\n",
              "    <div>\n",
              "<style scoped>\n",
              "    .dataframe tbody tr th:only-of-type {\n",
              "        vertical-align: middle;\n",
              "    }\n",
              "\n",
              "    .dataframe tbody tr th {\n",
              "        vertical-align: top;\n",
              "    }\n",
              "\n",
              "    .dataframe thead th {\n",
              "        text-align: right;\n",
              "    }\n",
              "</style>\n",
              "<table border=\"1\" class=\"dataframe\">\n",
              "  <thead>\n",
              "    <tr style=\"text-align: right;\">\n",
              "      <th></th>\n",
              "      <th>Treinamento</th>\n",
              "      <th>Neurônios</th>\n",
              "      <th>Ativação</th>\n",
              "      <th>Perda Final</th>\n",
              "      <th>Número de Épocas</th>\n",
              "      <th>Ranking da Melhor Configuração</th>\n",
              "    </tr>\n",
              "  </thead>\n",
              "  <tbody>\n",
              "    <tr>\n",
              "      <th>0</th>\n",
              "      <td>1</td>\n",
              "      <td>5</td>\n",
              "      <td>tanh</td>\n",
              "      <td>0.011280</td>\n",
              "      <td>46</td>\n",
              "      <td>7.0</td>\n",
              "    </tr>\n",
              "    <tr>\n",
              "      <th>1</th>\n",
              "      <td>2</td>\n",
              "      <td>10</td>\n",
              "      <td>tanh</td>\n",
              "      <td>0.018799</td>\n",
              "      <td>39</td>\n",
              "      <td>8.0</td>\n",
              "    </tr>\n",
              "    <tr>\n",
              "      <th>2</th>\n",
              "      <td>3</td>\n",
              "      <td>15</td>\n",
              "      <td>tanh</td>\n",
              "      <td>0.010658</td>\n",
              "      <td>23</td>\n",
              "      <td>6.0</td>\n",
              "    </tr>\n",
              "    <tr>\n",
              "      <th>3</th>\n",
              "      <td>4</td>\n",
              "      <td>5</td>\n",
              "      <td>relu</td>\n",
              "      <td>0.001432</td>\n",
              "      <td>366</td>\n",
              "      <td>4.0</td>\n",
              "    </tr>\n",
              "    <tr>\n",
              "      <th>4</th>\n",
              "      <td>5</td>\n",
              "      <td>10</td>\n",
              "      <td>relu</td>\n",
              "      <td>0.000607</td>\n",
              "      <td>225</td>\n",
              "      <td>1.0</td>\n",
              "    </tr>\n",
              "    <tr>\n",
              "      <th>5</th>\n",
              "      <td>6</td>\n",
              "      <td>15</td>\n",
              "      <td>relu</td>\n",
              "      <td>0.003293</td>\n",
              "      <td>21</td>\n",
              "      <td>5.0</td>\n",
              "    </tr>\n",
              "    <tr>\n",
              "      <th>6</th>\n",
              "      <td>7</td>\n",
              "      <td>5</td>\n",
              "      <td>logistic</td>\n",
              "      <td>0.000743</td>\n",
              "      <td>126</td>\n",
              "      <td>2.0</td>\n",
              "    </tr>\n",
              "    <tr>\n",
              "      <th>7</th>\n",
              "      <td>8</td>\n",
              "      <td>10</td>\n",
              "      <td>logistic</td>\n",
              "      <td>0.019570</td>\n",
              "      <td>29</td>\n",
              "      <td>9.0</td>\n",
              "    </tr>\n",
              "    <tr>\n",
              "      <th>8</th>\n",
              "      <td>9</td>\n",
              "      <td>15</td>\n",
              "      <td>logistic</td>\n",
              "      <td>0.000961</td>\n",
              "      <td>41</td>\n",
              "      <td>3.0</td>\n",
              "    </tr>\n",
              "  </tbody>\n",
              "</table>\n",
              "</div>\n",
              "    <div class=\"colab-df-buttons\">\n",
              "\n",
              "  <div class=\"colab-df-container\">\n",
              "    <button class=\"colab-df-convert\" onclick=\"convertToInteractive('df-0eea2fae-7d78-44e0-aeba-64f5b991a525')\"\n",
              "            title=\"Convert this dataframe to an interactive table.\"\n",
              "            style=\"display:none;\">\n",
              "\n",
              "  <svg xmlns=\"http://www.w3.org/2000/svg\" height=\"24px\" viewBox=\"0 -960 960 960\">\n",
              "    <path d=\"M120-120v-720h720v720H120Zm60-500h600v-160H180v160Zm220 220h160v-160H400v160Zm0 220h160v-160H400v160ZM180-400h160v-160H180v160Zm440 0h160v-160H620v160ZM180-180h160v-160H180v160Zm440 0h160v-160H620v160Z\"/>\n",
              "  </svg>\n",
              "    </button>\n",
              "\n",
              "  <style>\n",
              "    .colab-df-container {\n",
              "      display:flex;\n",
              "      gap: 12px;\n",
              "    }\n",
              "\n",
              "    .colab-df-convert {\n",
              "      background-color: #E8F0FE;\n",
              "      border: none;\n",
              "      border-radius: 50%;\n",
              "      cursor: pointer;\n",
              "      display: none;\n",
              "      fill: #1967D2;\n",
              "      height: 32px;\n",
              "      padding: 0 0 0 0;\n",
              "      width: 32px;\n",
              "    }\n",
              "\n",
              "    .colab-df-convert:hover {\n",
              "      background-color: #E2EBFA;\n",
              "      box-shadow: 0px 1px 2px rgba(60, 64, 67, 0.3), 0px 1px 3px 1px rgba(60, 64, 67, 0.15);\n",
              "      fill: #174EA6;\n",
              "    }\n",
              "\n",
              "    .colab-df-buttons div {\n",
              "      margin-bottom: 4px;\n",
              "    }\n",
              "\n",
              "    [theme=dark] .colab-df-convert {\n",
              "      background-color: #3B4455;\n",
              "      fill: #D2E3FC;\n",
              "    }\n",
              "\n",
              "    [theme=dark] .colab-df-convert:hover {\n",
              "      background-color: #434B5C;\n",
              "      box-shadow: 0px 1px 3px 1px rgba(0, 0, 0, 0.15);\n",
              "      filter: drop-shadow(0px 1px 2px rgba(0, 0, 0, 0.3));\n",
              "      fill: #FFFFFF;\n",
              "    }\n",
              "  </style>\n",
              "\n",
              "    <script>\n",
              "      const buttonEl =\n",
              "        document.querySelector('#df-0eea2fae-7d78-44e0-aeba-64f5b991a525 button.colab-df-convert');\n",
              "      buttonEl.style.display =\n",
              "        google.colab.kernel.accessAllowed ? 'block' : 'none';\n",
              "\n",
              "      async function convertToInteractive(key) {\n",
              "        const element = document.querySelector('#df-0eea2fae-7d78-44e0-aeba-64f5b991a525');\n",
              "        const dataTable =\n",
              "          await google.colab.kernel.invokeFunction('convertToInteractive',\n",
              "                                                    [key], {});\n",
              "        if (!dataTable) return;\n",
              "\n",
              "        const docLinkHtml = 'Like what you see? Visit the ' +\n",
              "          '<a target=\"_blank\" href=https://colab.research.google.com/notebooks/data_table.ipynb>data table notebook</a>'\n",
              "          + ' to learn more about interactive tables.';\n",
              "        element.innerHTML = '';\n",
              "        dataTable['output_type'] = 'display_data';\n",
              "        await google.colab.output.renderOutput(dataTable, element);\n",
              "        const docLink = document.createElement('div');\n",
              "        docLink.innerHTML = docLinkHtml;\n",
              "        element.appendChild(docLink);\n",
              "      }\n",
              "    </script>\n",
              "  </div>\n",
              "\n",
              "\n",
              "<div id=\"df-5afa6221-a109-4016-9855-8b5aac3c0da0\">\n",
              "  <button class=\"colab-df-quickchart\" onclick=\"quickchart('df-5afa6221-a109-4016-9855-8b5aac3c0da0')\"\n",
              "            title=\"Suggest charts\"\n",
              "            style=\"display:none;\">\n",
              "\n",
              "<svg xmlns=\"http://www.w3.org/2000/svg\" height=\"24px\"viewBox=\"0 0 24 24\"\n",
              "     width=\"24px\">\n",
              "    <g>\n",
              "        <path d=\"M19 3H5c-1.1 0-2 .9-2 2v14c0 1.1.9 2 2 2h14c1.1 0 2-.9 2-2V5c0-1.1-.9-2-2-2zM9 17H7v-7h2v7zm4 0h-2V7h2v10zm4 0h-2v-4h2v4z\"/>\n",
              "    </g>\n",
              "</svg>\n",
              "  </button>\n",
              "\n",
              "<style>\n",
              "  .colab-df-quickchart {\n",
              "      --bg-color: #E8F0FE;\n",
              "      --fill-color: #1967D2;\n",
              "      --hover-bg-color: #E2EBFA;\n",
              "      --hover-fill-color: #174EA6;\n",
              "      --disabled-fill-color: #AAA;\n",
              "      --disabled-bg-color: #DDD;\n",
              "  }\n",
              "\n",
              "  [theme=dark] .colab-df-quickchart {\n",
              "      --bg-color: #3B4455;\n",
              "      --fill-color: #D2E3FC;\n",
              "      --hover-bg-color: #434B5C;\n",
              "      --hover-fill-color: #FFFFFF;\n",
              "      --disabled-bg-color: #3B4455;\n",
              "      --disabled-fill-color: #666;\n",
              "  }\n",
              "\n",
              "  .colab-df-quickchart {\n",
              "    background-color: var(--bg-color);\n",
              "    border: none;\n",
              "    border-radius: 50%;\n",
              "    cursor: pointer;\n",
              "    display: none;\n",
              "    fill: var(--fill-color);\n",
              "    height: 32px;\n",
              "    padding: 0;\n",
              "    width: 32px;\n",
              "  }\n",
              "\n",
              "  .colab-df-quickchart:hover {\n",
              "    background-color: var(--hover-bg-color);\n",
              "    box-shadow: 0 1px 2px rgba(60, 64, 67, 0.3), 0 1px 3px 1px rgba(60, 64, 67, 0.15);\n",
              "    fill: var(--button-hover-fill-color);\n",
              "  }\n",
              "\n",
              "  .colab-df-quickchart-complete:disabled,\n",
              "  .colab-df-quickchart-complete:disabled:hover {\n",
              "    background-color: var(--disabled-bg-color);\n",
              "    fill: var(--disabled-fill-color);\n",
              "    box-shadow: none;\n",
              "  }\n",
              "\n",
              "  .colab-df-spinner {\n",
              "    border: 2px solid var(--fill-color);\n",
              "    border-color: transparent;\n",
              "    border-bottom-color: var(--fill-color);\n",
              "    animation:\n",
              "      spin 1s steps(1) infinite;\n",
              "  }\n",
              "\n",
              "  @keyframes spin {\n",
              "    0% {\n",
              "      border-color: transparent;\n",
              "      border-bottom-color: var(--fill-color);\n",
              "      border-left-color: var(--fill-color);\n",
              "    }\n",
              "    20% {\n",
              "      border-color: transparent;\n",
              "      border-left-color: var(--fill-color);\n",
              "      border-top-color: var(--fill-color);\n",
              "    }\n",
              "    30% {\n",
              "      border-color: transparent;\n",
              "      border-left-color: var(--fill-color);\n",
              "      border-top-color: var(--fill-color);\n",
              "      border-right-color: var(--fill-color);\n",
              "    }\n",
              "    40% {\n",
              "      border-color: transparent;\n",
              "      border-right-color: var(--fill-color);\n",
              "      border-top-color: var(--fill-color);\n",
              "    }\n",
              "    60% {\n",
              "      border-color: transparent;\n",
              "      border-right-color: var(--fill-color);\n",
              "    }\n",
              "    80% {\n",
              "      border-color: transparent;\n",
              "      border-right-color: var(--fill-color);\n",
              "      border-bottom-color: var(--fill-color);\n",
              "    }\n",
              "    90% {\n",
              "      border-color: transparent;\n",
              "      border-bottom-color: var(--fill-color);\n",
              "    }\n",
              "  }\n",
              "</style>\n",
              "\n",
              "  <script>\n",
              "    async function quickchart(key) {\n",
              "      const quickchartButtonEl =\n",
              "        document.querySelector('#' + key + ' button');\n",
              "      quickchartButtonEl.disabled = true;  // To prevent multiple clicks.\n",
              "      quickchartButtonEl.classList.add('colab-df-spinner');\n",
              "      try {\n",
              "        const charts = await google.colab.kernel.invokeFunction(\n",
              "            'suggestCharts', [key], {});\n",
              "      } catch (error) {\n",
              "        console.error('Error during call to suggestCharts:', error);\n",
              "      }\n",
              "      quickchartButtonEl.classList.remove('colab-df-spinner');\n",
              "      quickchartButtonEl.classList.add('colab-df-quickchart-complete');\n",
              "    }\n",
              "    (() => {\n",
              "      let quickchartButtonEl =\n",
              "        document.querySelector('#df-5afa6221-a109-4016-9855-8b5aac3c0da0 button');\n",
              "      quickchartButtonEl.style.display =\n",
              "        google.colab.kernel.accessAllowed ? 'block' : 'none';\n",
              "    })();\n",
              "  </script>\n",
              "</div>\n",
              "\n",
              "  <div id=\"id_57c295e7-fcbf-414e-b60c-d38e52ea36a7\">\n",
              "    <style>\n",
              "      .colab-df-generate {\n",
              "        background-color: #E8F0FE;\n",
              "        border: none;\n",
              "        border-radius: 50%;\n",
              "        cursor: pointer;\n",
              "        display: none;\n",
              "        fill: #1967D2;\n",
              "        height: 32px;\n",
              "        padding: 0 0 0 0;\n",
              "        width: 32px;\n",
              "      }\n",
              "\n",
              "      .colab-df-generate:hover {\n",
              "        background-color: #E2EBFA;\n",
              "        box-shadow: 0px 1px 2px rgba(60, 64, 67, 0.3), 0px 1px 3px 1px rgba(60, 64, 67, 0.15);\n",
              "        fill: #174EA6;\n",
              "      }\n",
              "\n",
              "      [theme=dark] .colab-df-generate {\n",
              "        background-color: #3B4455;\n",
              "        fill: #D2E3FC;\n",
              "      }\n",
              "\n",
              "      [theme=dark] .colab-df-generate:hover {\n",
              "        background-color: #434B5C;\n",
              "        box-shadow: 0px 1px 3px 1px rgba(0, 0, 0, 0.15);\n",
              "        filter: drop-shadow(0px 1px 2px rgba(0, 0, 0, 0.3));\n",
              "        fill: #FFFFFF;\n",
              "      }\n",
              "    </style>\n",
              "    <button class=\"colab-df-generate\" onclick=\"generateWithVariable('df')\"\n",
              "            title=\"Generate code using this dataframe.\"\n",
              "            style=\"display:none;\">\n",
              "\n",
              "  <svg xmlns=\"http://www.w3.org/2000/svg\" height=\"24px\"viewBox=\"0 0 24 24\"\n",
              "       width=\"24px\">\n",
              "    <path d=\"M7,19H8.4L18.45,9,17,7.55,7,17.6ZM5,21V16.75L18.45,3.32a2,2,0,0,1,2.83,0l1.4,1.43a1.91,1.91,0,0,1,.58,1.4,1.91,1.91,0,0,1-.58,1.4L9.25,21ZM18.45,9,17,7.55Zm-12,3A5.31,5.31,0,0,0,4.9,8.1,5.31,5.31,0,0,0,1,6.5,5.31,5.31,0,0,0,4.9,4.9,5.31,5.31,0,0,0,6.5,1,5.31,5.31,0,0,0,8.1,4.9,5.31,5.31,0,0,0,12,6.5,5.46,5.46,0,0,0,6.5,12Z\"/>\n",
              "  </svg>\n",
              "    </button>\n",
              "    <script>\n",
              "      (() => {\n",
              "      const buttonEl =\n",
              "        document.querySelector('#id_57c295e7-fcbf-414e-b60c-d38e52ea36a7 button.colab-df-generate');\n",
              "      buttonEl.style.display =\n",
              "        google.colab.kernel.accessAllowed ? 'block' : 'none';\n",
              "\n",
              "      buttonEl.onclick = () => {\n",
              "        google.colab.notebook.generateWithVariable('df');\n",
              "      }\n",
              "      })();\n",
              "    </script>\n",
              "  </div>\n",
              "\n",
              "    </div>\n",
              "  </div>\n"
            ],
            "application/vnd.google.colaboratory.intrinsic+json": {
              "type": "dataframe",
              "variable_name": "df",
              "summary": "{\n  \"name\": \"df\",\n  \"rows\": 9,\n  \"fields\": [\n    {\n      \"column\": \"Treinamento\",\n      \"properties\": {\n        \"dtype\": \"number\",\n        \"std\": 2,\n        \"min\": 1,\n        \"max\": 9,\n        \"num_unique_values\": 9,\n        \"samples\": [\n          8,\n          2,\n          6\n        ],\n        \"semantic_type\": \"\",\n        \"description\": \"\"\n      }\n    },\n    {\n      \"column\": \"Neur\\u00f4nios\",\n      \"properties\": {\n        \"dtype\": \"number\",\n        \"std\": 4,\n        \"min\": 5,\n        \"max\": 15,\n        \"num_unique_values\": 3,\n        \"samples\": [\n          5,\n          10,\n          15\n        ],\n        \"semantic_type\": \"\",\n        \"description\": \"\"\n      }\n    },\n    {\n      \"column\": \"Ativa\\u00e7\\u00e3o\",\n      \"properties\": {\n        \"dtype\": \"category\",\n        \"num_unique_values\": 3,\n        \"samples\": [\n          \"tanh\",\n          \"relu\",\n          \"logistic\"\n        ],\n        \"semantic_type\": \"\",\n        \"description\": \"\"\n      }\n    },\n    {\n      \"column\": \"Perda Final\",\n      \"properties\": {\n        \"dtype\": \"number\",\n        \"std\": 0.007810852283208574,\n        \"min\": 0.000606624868133049,\n        \"max\": 0.01957026215706161,\n        \"num_unique_values\": 9,\n        \"samples\": [\n          0.01957026215706161,\n          0.018799317044292635,\n          0.0032926441261320076\n        ],\n        \"semantic_type\": \"\",\n        \"description\": \"\"\n      }\n    },\n    {\n      \"column\": \"N\\u00famero de \\u00c9pocas\",\n      \"properties\": {\n        \"dtype\": \"number\",\n        \"std\": 119,\n        \"min\": 21,\n        \"max\": 366,\n        \"num_unique_values\": 9,\n        \"samples\": [\n          29,\n          39,\n          21\n        ],\n        \"semantic_type\": \"\",\n        \"description\": \"\"\n      }\n    },\n    {\n      \"column\": \"Ranking da Melhor Configura\\u00e7\\u00e3o\",\n      \"properties\": {\n        \"dtype\": \"number\",\n        \"std\": 2.7386127875258306,\n        \"min\": 1.0,\n        \"max\": 9.0,\n        \"num_unique_values\": 9,\n        \"samples\": [\n          9.0,\n          8.0,\n          5.0\n        ],\n        \"semantic_type\": \"\",\n        \"description\": \"\"\n      }\n    }\n  ]\n}"
            }
          },
          "metadata": {},
          "execution_count": 72
        }
      ]
    },
    {
      "cell_type": "code",
      "source": [
        "!jupyter nbconvert --to html /content/drive/MyDrive/Colab_Notebooks/MLP_RegressorRessonancia_MW.ipynb"
      ],
      "metadata": {
        "colab": {
          "base_uri": "https://localhost:8080/"
        },
        "id": "D2WcFcOXct9m",
        "outputId": "94c0c803-1e42-47fb-8a28-a251e62fe20c"
      },
      "execution_count": 54,
      "outputs": [
        {
          "output_type": "stream",
          "name": "stdout",
          "text": [
            "[NbConvertApp] Converting notebook /content/drive/MyDrive/Colab_Notebooks/MLP_RegressorRessonancia_MW.ipynb to html\n",
            "[NbConvertApp] Writing 807844 bytes to /content/drive/MyDrive/Colab_Notebooks/MLP_RegressorRessonancia_MW.html\n"
          ]
        }
      ]
    }
  ],
  "metadata": {
    "colab": {
      "provenance": [],
      "include_colab_link": true
    },
    "kernelspec": {
      "display_name": "Python 3",
      "name": "python3"
    },
    "language_info": {
      "name": "python"
    }
  },
  "nbformat": 4,
  "nbformat_minor": 0
}